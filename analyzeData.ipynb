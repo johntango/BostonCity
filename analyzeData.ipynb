{
 "cells": [
  {
   "cell_type": "code",
   "execution_count": 2,
   "metadata": {},
   "outputs": [],
   "source": [
    "import pandas as pd\n",
    "import json\n"
   ]
  },
  {
   "cell_type": "code",
   "execution_count": 3,
   "metadata": {},
   "outputs": [],
   "source": [
    "def get_data():\n",
    "    # url = \"https://pollysnips.s3.amazonaws.com/bostonEmployeeSalaries.json\"\n",
    "    # get json data from local file bostonEmployeeSalaries.json\n",
    "    data = json.load(open('bostonEmployeeSalaries.json'))\n",
    "    return data\n",
    "\n",
    "\n",
    "data = get_data()\n"
   ]
  },
  {
   "cell_type": "code",
   "execution_count": 4,
   "metadata": {},
   "outputs": [
    {
     "name": "stdout",
     "output_type": "stream",
     "text": [
      "   0                                     1   2           3       4   \\\n",
      "0   1  17439B12-1A55-4B6A-980E-5BAC15841AC4   1  1426008064  525314   \n",
      "1   2  EA2E2977-1FBA-4254-A2A9-855FA012565E   2  1426008064  525314   \n",
      "2   3  08FF3561-CE31-4BEB-AFD8-6DC47AC3C557   3  1426008064  525314   \n",
      "3   4  AE0A5BEF-F80F-4BD6-938C-37A639AB5400   4  1426008064  525314   \n",
      "4   5  72AD83C0-C652-4580-B9C3-F7304CB396A4   5  1426008064  525314   \n",
      "\n",
      "           5       6     7                          8   \\\n",
      "0  1426008064  525314  {\\n}           Adario,Anthony J   \n",
      "1  1426008064  525314  {\\n}         Baker,Katherine E.   \n",
      "2  1426008064  525314  {\\n}             Braga,Ann Hess   \n",
      "3  1426008064  525314  {\\n}       Calobrisi,Jane Ellen   \n",
      "4  1426008064  525314  {\\n}  Castillo-Cook,Wendolyn M.   \n",
      "\n",
      "                              9                    10        11    12  \\\n",
      "0   Supvising Claims Agent (Asd)  ASD Human Resources  98538.32  0.00   \n",
      "1             Nurse Case Manager  ASD Human Resources  83942.21  0.00   \n",
      "2  HumanResourcesComplianceOffcr  ASD Human Resources  98538.34  0.00   \n",
      "3              Personnel Analyst  ASD Human Resources  70073.81  0.00   \n",
      "4              Alcholism Coord I  ASD Human Resources  79253.11  0.00   \n",
      "\n",
      "        13    14    15    16    17         18     19  \n",
      "0  1842.87  0.00  0.00  0.00  0.00  100381.19  02132  \n",
      "1   225.00  0.00  0.00  0.00  0.00   84167.21  02136  \n",
      "2     0.00  0.00  0.00  0.00  0.00   98538.34  02126  \n",
      "3   225.00  0.00  0.00  0.00  0.00   70298.81  02090  \n",
      "4     0.00  0.00  0.00  0.00  0.00   79253.11  02121  \n",
      "(22233, 20)\n"
     ]
    }
   ],
   "source": [
    "df = pd.DataFrame(data[\"data\"])\n",
    "print(df.head())\n",
    "print(df.shape)"
   ]
  },
  {
   "cell_type": "code",
   "execution_count": 16,
   "metadata": {},
   "outputs": [
    {
     "data": {
      "text/plain": [
       "<AxesSubplot: ylabel='Frequency'>"
      ]
     },
     "execution_count": 16,
     "metadata": {},
     "output_type": "execute_result"
    },
    {
     "data": {
      "image/png": "[encoded data removed]",
      "text/plain": [
       "<Figure size 640x480 with 1 Axes>"
      ]
     },
     "metadata": {},
     "output_type": "display_data"
    },
    {
     "name": "stderr",
     "output_type": "stream",
     "text": [
      "Bad pipe message: %s [b'\\xd2/pz\\xb8.\\xad\\xdb\\xe9\\x7f\\xc7']\n",
      "Bad pipe message: %s [b'\\xa2\\xeb\\xc8;\\xdd \\x1a\\x89\\xff\\x94\\x9d\\xd0\\\\\\xca\\x8a\\x06;n\\xf1\\xc4:\\xfa\\xc4\\xd1\\xe5\\x9ctml\\x05\\xc494\\xa0Tr\\x04\\xa6\\x00\\x08\\x13\\x02\\x13\\x03\\x13\\x01\\x00\\xff\\x01\\x00\\x00\\x8f\\x00\\x00\\x00\\x0e\\x00\\x0c\\x00\\x00\\t127.0.0.1\\x00\\x0b\\x00\\x04\\x03\\x00\\x01\\x02\\x00\\n\\x00\\x0c\\x00\\n\\x00\\x1d\\x00\\x17\\x00\\x1e\\x00\\x19\\x00\\x18\\x00#\\x00\\x00\\x00\\x16\\x00\\x00\\x00\\x17\\x00\\x00\\x00\\r\\x00\\x1e\\x00\\x1c\\x04\\x03\\x05\\x03\\x06\\x03\\x08\\x07\\x08\\x08\\x08\\t\\x08\\n\\x08\\x0b\\x08\\x04\\x08\\x05\\x08\\x06\\x04\\x01\\x05\\x01\\x06\\x01\\x00+\\x00\\x03\\x02\\x03\\x04\\x00-\\x00\\x02\\x01\\x01\\x003\\x00', b'$\\x00\\x1d\\x00 \\x1c\\xaf$\\x98:4%\\x02\\xc4b5S\\xddo\\x8c\\xcbQ\\x1a\\x81\\x12\\xb3\\xf1\\xe9\\xa4p\\xb9\\xa8=Btw\\r']\n",
      "Bad pipe message: %s [b'v\\x7f?\\xb1\\xd9\\xc7\\xd5l.x\\xc6\\x95\\xf4qN2\\xd1w\\x00\\x00\\xf4\\xc00\\xc0,\\xc0(\\xc0', b'\\x14\\xc0\\n\\x00\\xa5\\x00\\xa3\\x00\\xa1\\x00\\x9f\\x00k\\x00j\\x00i\\x00h\\x009\\x008\\x007\\x006\\x00\\x88\\x00\\x87\\x00\\x86\\x00\\x85']\n",
      "Bad pipe message: %s [b'\\xb1\\x1c\\xf4\\x15\\\\\\xb2\\x8d\\xa3M\\x95\\xf4@!;\\x18\\xef-a\\x00\\x00\\xa2\\xc0\\x14\\xc0\\n\\x009\\x008\\x007\\x006\\x00\\x88\\x00\\x87\\x00\\x86\\x00\\x85\\xc0\\x19\\x00:\\x00\\x89\\xc0\\x0f\\xc0\\x05\\x005\\x00\\x84\\xc0\\x13\\xc0\\t\\x003\\x002\\x001\\x000\\x00\\x9a\\x00\\x99\\x00\\x98\\x00\\x97\\x00E\\x00D\\x00C\\x00B\\xc0\\x18\\x004\\x00\\x9b\\x00F\\xc0\\x0e\\xc0\\x04\\x00/\\x00\\x96\\x00A\\x00\\x07\\xc0\\x11\\xc0\\x07\\xc0\\x16\\x00\\x18\\xc0\\x0c\\xc0\\x02\\x00\\x05\\x00\\x04\\xc0\\x12\\xc0\\x08\\x00\\x16\\x00\\x13\\x00\\x10\\x00\\r\\xc0\\x17\\x00\\x1b\\xc0\\r\\xc0\\x03\\x00\\n\\x00\\x15\\x00\\x12\\x00\\x0f\\x00\\x0c\\x00\\x1a\\x00']\n",
      "Bad pipe message: %s [b'\\x12\\x84]\\x18\\xb3\\x16_]\\xf2\\x8e\\x9fZ\\xcf\\xc1f\\xc46_\\x00\\x00>\\xc0\\x14\\xc0\\n\\x009\\x008\\x007\\x006\\xc0\\x0f\\xc0\\x05\\x005\\xc0\\x13\\xc0\\t\\x003\\x002\\x001\\x000\\xc0\\x0e\\xc0\\x04\\x00/\\x00\\x9a\\x00\\x99\\x00\\x98\\x00\\x97\\x00\\x96\\x00\\x07\\xc0\\x11\\xc0\\x07\\xc0\\x0c\\xc0\\x02\\x00\\x05\\x00\\x04\\x00\\xff\\x02\\x01\\x00\\x00C\\x00\\x00\\x00\\x0e\\x00\\x0c\\x00\\x00\\t127.0.0.1\\x00\\x0b\\x00\\x04\\x03\\x00\\x01\\x02']\n",
      "Bad pipe message: %s [b'\\x1e7}\\xd8\\x16M\\x8e\\xe2\\x9b\\xf1h\\t8\\x0b7\\xf6\\xf2\\xef\\x00\\x00\\xa6\\xc0,\\xc00\\x00\\xa3\\x00\\x9f\\xcc']\n",
      "Bad pipe message: %s [b\"\\x00\\xa7\\x00m\\x00:\\x00\\x89\\xc02\\xc0.\\xc0*\\xc0&\\xc0\\x0f\\xc0\\x05\\x00\\x9d\\x00=\\x005\\x00\\x84\\xc0/\\xc0+\\xc0'\\xc0#\\xc0\\x13\\xc0\\t\\x00\\xa4\\x00\\xa2\\x00\\xa0\\x00\\x9e\\x00g\\x00@\\x00?\\x00>\\x003\\x002\\x001\\x000\\x00\\x9a\\x00\\x99\\x00\\x98\\x00\\x97\\x00E\\x00D\\x00C\\x00B\\xc0\\x18\\x00\\xa6\\x00l\\x004\\x00\\x9b\\x00F\\xc01\\xc0-\\xc0)\\xc0%\\xc0\\x0e\\xc0\\x04\\x00\\x9c\\x00<\\x00/\\x00\\x96\\x00A\\x00\\x07\\xc0\\x11\\xc0\\x07\\xc0\\x16\\x00\\x18\\xc0\\x0c\\xc0\\x02\\x00\\x05\\x00\\x04\\xc0\\x12\\xc0\\x08\\x00\\x16\\x00\\x13\\x00\\x10\\x00\\r\\xc0\\x17\\x00\\x1b\\xc0\\r\\xc0\\x03\\x00\\n\\x00\\x15\\x00\\x12\\x00\\x0f\\x00\\x0c\\x00\\x1a\\x00\\t\\x00\\x14\\x00\\x11\\x00\\x19\\x00\\x08\\x00\\x06\\x00\\x17\\x00\\x03\\xc0\\x10\\xc0\\x06\\xc0\\x15\\xc0\\x0b\\xc0\\x01\\x00\", b'\\x02\\x00\\x01\\x00\\xff\\x02\\x01\\x00\\x00g\\x00\\x00\\x00\\x0e\\x00\\x0c\\x00\\x00\\t127.0.0.1\\x00\\x0b\\x00\\x04\\x03\\x00\\x01\\x02\\x00\\n\\x00\\x1c\\x00\\x1a\\x00\\x17\\x00\\x19\\x00\\x1c\\x00\\x1b\\x00\\x18\\x00\\x1a\\x00\\x16\\x00\\x0e']\n",
      "Bad pipe message: %s [b'\\x14\\x00\\x11\\x00\\x19\\x00\\x08\\x00']\n",
      "Bad pipe message: %s [b\"\\xa8\\xcc\\xaa\\xc0\\xaf\\xc0\\xad\\xc0\\xa3\\xc0\\x9f\\xc0]\\xc0a\\xc0W\\xc0S\\xc0+\\xc0/\\x00\\xa2\\x00\\x9e\\xc0\\xae\\xc0\\xac\\xc0\\xa2\\xc0\\x9e\\xc0\\\\\\xc0`\\xc0V\\xc0R\\xc0$\\xc0(\\x00k\\x00j\\xc0s\\xc0w\\x00\\xc4\\x00\\xc3\\xc0#\\xc0'\\x00g\\x00@\\xc0r\\xc0v\\x00\\xbe\\x00\\xbd\\xc0\\n\\xc0\\x14\\x009\\x008\\x00\\x88\\x00\\x87\\xc0\\t\\xc0\\x13\\x003\\x002\\x00\\x9a\\x00\\x99\\x00E\\x00D\\xc0\\x07\\xc0\\x11\\xc0\\x08\\xc0\\x12\\x00\\x16\\x00\\x13\\x00\\x9d\\xc0\\xa1\\xc0\\x9d\\xc0Q\\x00\\x9c\\xc0\\xa0\\xc0\\x9c\\xc0P\\x00=\\x00\\xc0\\x00<\\x00\\xba\\x005\\x00\\x84\\x00/\\x00\\x96\\x00A\\x00\\x05\\x00\\n\\x00\\xff\\x01\\x00\\x00j\\x00\\x00\\x00\\x0e\\x00\\x0c\\x00\\x00\\t\"]\n",
      "Bad pipe message: %s [b'7.0.0.1\\x00\\x0b\\x00\\x04\\x03\\x00\\x01\\x02\\x00\\n\\x00\\x0c\\x00\\n\\x00\\x1d\\x00\\x17\\x00\\x1e\\x00\\x19\\x00\\x18\\x00#\\x00\\x00\\x00\\x16\\x00\\x00\\x00\\x17\\x00\\x00\\x00\\r\\x000\\x00']\n",
      "Bad pipe message: %s [b'\\x17\\x00\\x03\\xc0\\x10']\n",
      "Bad pipe message: %s [b'\\x03\\x05\\x03\\x06\\x03\\x08\\x07\\x08\\x08\\x08\\t\\x08\\n\\x08\\x0b\\x08\\x04\\x08\\x05\\x08\\x06\\x04\\x01\\x05\\x01\\x06\\x01\\x03\\x03\\x02\\x03\\x03\\x01\\x02\\x01\\x03\\x02\\x02\\x02\\x04\\x02\\x05\\x02\\x06\\x02']\n"
     ]
    }
   ],
   "source": [
    "# column 10 is job title and column 18 is salary\n",
    "# change column 18 to int\n",
    "salaries = df[18].astype(float)\n",
    "# plot histogram of salaries in 40 bins\n",
    "salaries.plot.hist(bins=40)\n",
    "\n",
    "\n"
   ]
  },
  {
   "cell_type": "code",
   "execution_count": 27,
   "metadata": {},
   "outputs": [
    {
     "name": "stdout",
     "output_type": "stream",
     "text": [
      "0             ASD Human Resources\n",
      "1     ASD Intergvernmtl Relations\n",
      "2    ASD Office of Budget Mangmnt\n",
      "3    ASD Office Of Labor Relation\n",
      "4         ASD Purchasing Division\n",
      "dtype: object\n",
      "(1,)\n"
     ]
    }
   ],
   "source": [
    "# find out unique job titles in column 10\n",
    "job_titles = df[10].unique()\n",
    "job_titles = pd.Series(job_titles)\n",
    "print(job_titles.head())\n",
    "# how many unique job titles with police in them\n",
    "print(job_titles[job_titles.str.contains('Police')].shape)  \n"
   ]
  }
 ],
 "metadata": {
  "kernelspec": {
   "display_name": "Python 3",
   "language": "python",
   "name": "python3"
  },
  "language_info": {
   "codemirror_mode": {
    "name": "ipython",
    "version": 3
   },
   "file_extension": ".py",
   "mimetype": "text/x-python",
   "name": "python",
   "nbconvert_exporter": "python",
   "pygments_lexer": "ipython3",
   "version": "3.10.4"
  },
  "orig_nbformat": 4,
  "vscode": {
   "interpreter": {
    "hash": "3ad933181bd8a04b432d3370b9dc3b0662ad032c4dfaa4e4f1596c548f763858"
   }
  }
 },
 "nbformat": 4,
 "nbformat_minor": 2
}
