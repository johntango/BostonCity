{
 "cells": [
  {
   "cell_type": "code",
   "execution_count": 5,
   "metadata": {},
   "outputs": [],
   "source": [
    "import pandas as pd\n",
    "import json\n",
    "import requests as req"
   ]
  },
  {
   "cell_type": "code",
   "execution_count": 10,
   "metadata": {},
   "outputs": [
    {
     "name": "stdout",
     "output_type": "stream",
     "text": [
      "   0                                     1   2           3       4   \\\n",
      "0   1  17439B12-1A55-4B6A-980E-5BAC15841AC4   1  1426008064  525314   \n",
      "1   2  EA2E2977-1FBA-4254-A2A9-855FA012565E   2  1426008064  525314   \n",
      "2   3  08FF3561-CE31-4BEB-AFD8-6DC47AC3C557   3  1426008064  525314   \n",
      "3   4  AE0A5BEF-F80F-4BD6-938C-37A639AB5400   4  1426008064  525314   \n",
      "4   5  72AD83C0-C652-4580-B9C3-F7304CB396A4   5  1426008064  525314   \n",
      "\n",
      "           5       6     7                          8   \\\n",
      "0  1426008064  525314  {\\n}           Adario,Anthony J   \n",
      "1  1426008064  525314  {\\n}         Baker,Katherine E.   \n",
      "2  1426008064  525314  {\\n}             Braga,Ann Hess   \n",
      "3  1426008064  525314  {\\n}       Calobrisi,Jane Ellen   \n",
      "4  1426008064  525314  {\\n}  Castillo-Cook,Wendolyn M.   \n",
      "\n",
      "                              9                    10        11    12  \\\n",
      "0   Supvising Claims Agent (Asd)  ASD Human Resources  98538.32  0.00   \n",
      "1             Nurse Case Manager  ASD Human Resources  83942.21  0.00   \n",
      "2  HumanResourcesComplianceOffcr  ASD Human Resources  98538.34  0.00   \n",
      "3              Personnel Analyst  ASD Human Resources  70073.81  0.00   \n",
      "4              Alcholism Coord I  ASD Human Resources  79253.11  0.00   \n",
      "\n",
      "        13    14    15    16    17         18     19  \n",
      "0  1842.87  0.00  0.00  0.00  0.00  100381.19  02132  \n",
      "1   225.00  0.00  0.00  0.00  0.00   84167.21  02136  \n",
      "2     0.00  0.00  0.00  0.00  0.00   98538.34  02126  \n",
      "3   225.00  0.00  0.00  0.00  0.00   70298.81  02090  \n",
      "4     0.00  0.00  0.00  0.00  0.00   79253.11  02121  \n"
     ]
    }
   ],
   "source": [
    "# get json data from url with simple python request\n",
    "url = \"https://pollysnips.s3.amazonaws.com/bostonEmployeeSalaries.json\"\n",
    "response = req.get(url)\n",
    "data = response.json()\n",
    "# convert json to pandas dataframe\n",
    "df = pd.DataFrame(data[\"data\"])\n",
    "# print first 5 rows of dataframe\n",
    "print(df.head())"
   ]
  },
  {
   "cell_type": "code",
   "execution_count": 3,
   "metadata": {},
   "outputs": [],
   "source": [
    "def get_data():\n",
    "    # url = \"https://pollysnips.s3.amazonaws.com/bostonEmployeeSalaries.json\"\n",
    "    # get json data from local file bostonEmployeeSalaries.json\n",
    "    data = json.load(open('bostonEmployeeSalaries.json'))\n",
    "    return data\n",
    "\n",
    "\n",
    "data = get_data()\n"
   ]
  },
  {
   "cell_type": "code",
   "execution_count": 4,
   "metadata": {},
   "outputs": [
    {
     "name": "stdout",
     "output_type": "stream",
     "text": [
      "   0                                     1   2           3       4   \\\n",
      "0   1  17439B12-1A55-4B6A-980E-5BAC15841AC4   1  1426008064  525314   \n",
      "1   2  EA2E2977-1FBA-4254-A2A9-855FA012565E   2  1426008064  525314   \n",
      "2   3  08FF3561-CE31-4BEB-AFD8-6DC47AC3C557   3  1426008064  525314   \n",
      "3   4  AE0A5BEF-F80F-4BD6-938C-37A639AB5400   4  1426008064  525314   \n",
      "4   5  72AD83C0-C652-4580-B9C3-F7304CB396A4   5  1426008064  525314   \n",
      "\n",
      "           5       6     7                          8   \\\n",
      "0  1426008064  525314  {\\n}           Adario,Anthony J   \n",
      "1  1426008064  525314  {\\n}         Baker,Katherine E.   \n",
      "2  1426008064  525314  {\\n}             Braga,Ann Hess   \n",
      "3  1426008064  525314  {\\n}       Calobrisi,Jane Ellen   \n",
      "4  1426008064  525314  {\\n}  Castillo-Cook,Wendolyn M.   \n",
      "\n",
      "                              9                    10        11    12  \\\n",
      "0   Supvising Claims Agent (Asd)  ASD Human Resources  98538.32  0.00   \n",
      "1             Nurse Case Manager  ASD Human Resources  83942.21  0.00   \n",
      "2  HumanResourcesComplianceOffcr  ASD Human Resources  98538.34  0.00   \n",
      "3              Personnel Analyst  ASD Human Resources  70073.81  0.00   \n",
      "4              Alcholism Coord I  ASD Human Resources  79253.11  0.00   \n",
      "\n",
      "        13    14    15    16    17         18     19  \n",
      "0  1842.87  0.00  0.00  0.00  0.00  100381.19  02132  \n",
      "1   225.00  0.00  0.00  0.00  0.00   84167.21  02136  \n",
      "2     0.00  0.00  0.00  0.00  0.00   98538.34  02126  \n",
      "3   225.00  0.00  0.00  0.00  0.00   70298.81  02090  \n",
      "4     0.00  0.00  0.00  0.00  0.00   79253.11  02121  \n",
      "(22233, 20)\n"
     ]
    }
   ],
   "source": [
    "df = pd.DataFrame(data[\"data\"])\n",
    "print(df.head())\n",
    "print(df.shape)"
   ]
  },
  {
   "cell_type": "code",
   "execution_count": 28,
   "metadata": {},
   "outputs": [
    {
     "name": "stdout",
     "output_type": "stream",
     "text": [
      "maxium salary is:  415709.53\n",
      "job title of max salary is:  Boston Police Department\n"
     ]
    },
    {
     "data": {
      "text/plain": [
       "<AxesSubplot: ylabel='Frequency'>"
      ]
     },
     "execution_count": 28,
     "metadata": {},
     "output_type": "execute_result"
    },
    {
     "data": {
      "image/png": "[encoded data removed]",
      "text/plain": [
       "<Figure size 640x480 with 1 Axes>"
      ]
     },
     "metadata": {},
     "output_type": "display_data"
    }
   ],
   "source": [
    "# column 10 is job title and column 18 is salary\n",
    "# change column 18 to int\n",
    "salaries = df[18].astype(float)\n",
    "# plot histogram of salaries in 40 bins\n",
    "print(\"maxium salary is: \", salaries.max())\n",
    "# job title of max salary\n",
    "print(\"job title of max salary is: \", df[10][salaries.idxmax()])\n",
    "salaries.plot.hist(bins=40)\n",
    "\n",
    "\n"
   ]
  },
  {
   "cell_type": "code",
   "execution_count": 33,
   "metadata": {},
   "outputs": [
    {
     "data": {
      "text/plain": [
       "<AxesSubplot: ylabel='Frequency'>"
      ]
     },
     "execution_count": 33,
     "metadata": {},
     "output_type": "execute_result"
    },
    {
     "data": {
      "image/png": "[encoded data removed]",
      "text/plain": [
       "<Figure size 640x480 with 1 Axes>"
      ]
     },
     "metadata": {},
     "output_type": "display_data"
    }
   ],
   "source": [
    "# plot histogram of salaries > 200,000 in 10 bins\n",
    "salaries[salaries > 200000].plot.hist(bins=10)"
   ]
  },
  {
   "cell_type": "code",
   "execution_count": 32,
   "metadata": {},
   "outputs": [
    {
     "name": "stdout",
     "output_type": "stream",
     "text": [
      "Boston Police Department          2017\n",
      "Boston Fire Department            1345\n",
      "BPS Special Education               85\n",
      "BPS Boston Latin                    45\n",
      "Dpt of Innovation & Technology      44\n",
      "                                  ... \n",
      "BPS The Harbor School                1\n",
      "Office of Economic Development       1\n",
      "BPS Clap Elementary                  1\n",
      "Office of Finance & Budget           1\n",
      "BPS Equity                           1\n",
      "Name: 10, Length: 210, dtype: int64\n",
      "Boston Police Department    59\n",
      "Boston Fire Department       5\n",
      "BPS Kenny Elementary         1\n",
      "Superintendent               1\n",
      "Name: 10, dtype: int64\n"
     ]
    }
   ],
   "source": [
    "# number of police officers with salary > 100,000\n",
    "print(df[10][salaries > 100000].value_counts())\n",
    "# number of police officers with salary > 250,000\n",
    "print(df[10][salaries > 250000].value_counts())"
   ]
  },
  {
   "cell_type": "code",
   "execution_count": 27,
   "metadata": {},
   "outputs": [
    {
     "name": "stdout",
     "output_type": "stream",
     "text": [
      "0             ASD Human Resources\n",
      "1     ASD Intergvernmtl Relations\n",
      "2    ASD Office of Budget Mangmnt\n",
      "3    ASD Office Of Labor Relation\n",
      "4         ASD Purchasing Division\n",
      "dtype: object\n",
      "(1,)\n"
     ]
    }
   ],
   "source": [
    "# find out unique job titles in column 10\n",
    "job_titles = df[10].unique()\n",
    "job_titles = pd.Series(job_titles)\n",
    "print(job_titles.head())\n",
    "# how many unique job titles with police in them\n",
    "print(job_titles[job_titles.str.contains('Police')].shape)  \n"
   ]
  }
 ],
 "metadata": {
  "kernelspec": {
   "display_name": "Python 3",
   "language": "python",
   "name": "python3"
  },
  "language_info": {
   "codemirror_mode": {
    "name": "ipython",
    "version": 3
   },
   "file_extension": ".py",
   "mimetype": "text/x-python",
   "name": "python",
   "nbconvert_exporter": "python",
   "pygments_lexer": "ipython3",
   "version": "3.10.4"
  },
  "orig_nbformat": 4,
  "vscode": {
   "interpreter": {
    "hash": "3ad933181bd8a04b432d3370b9dc3b0662ad032c4dfaa4e4f1596c548f763858"
   }
  }
 },
 "nbformat": 4,
 "nbformat_minor": 2
}
